{
 "cells": [
  {
   "cell_type": "code",
   "execution_count": 89,
   "id": "31534a22-17bf-44ef-a982-3384191db909",
   "metadata": {},
   "outputs": [],
   "source": [
    "import pandas as pd\n"
   ]
  },
  {
   "cell_type": "code",
   "execution_count": 90,
   "id": "80cec374-b2e3-466c-bec2-6eab449b15de",
   "metadata": {
    "tags": []
   },
   "outputs": [],
   "source": [
    "import matplotlib.pyplot as plt"
   ]
  },
  {
   "cell_type": "code",
   "execution_count": 91,
   "id": "768fab0b-edc1-463b-b700-207efc702dd9",
   "metadata": {
    "tags": []
   },
   "outputs": [],
   "source": [
    "data = {\n",
    "    \"Fruit\": [\"Apple\", \"Banana\", \"Orange\", \"Strawberry\", \"Grapes\"],\n",
    "    \"Calories\": [52, 96, 47, 33, 69], #per 100g\n",
    "    \"Sugar (g)\": [10.4, 12.2, 9.2, 4.9, 16.3], #per 100g\n",
    "    \"Vitamin C (mg)\": [4.6 , 8.7, 53.2, 58.8, 10.8], #per 100g\n",
    "}"
   ]
  },
  {
   "cell_type": "code",
   "execution_count": 92,
   "id": "7ef99611-ccd0-4cc6-8925-24e046c1c3cb",
   "metadata": {
    "tags": []
   },
   "outputs": [],
   "source": [
    "df = pd.DataFrame(data)"
   ]
  },
  {
   "cell_type": "code",
   "execution_count": 93,
   "id": "a9faf613-836d-485c-80cd-8241106500f0",
   "metadata": {
    "tags": []
   },
   "outputs": [],
   "source": [
    "def plot_nutrition(df, nutrient, title, ylabel, colour):\n",
    "    plt.figure(figsize=(8,5))\n",
    "    plt.bar(df[\"Fruit\"], df[nutrient],)\n",
    "    plt.title(title, fontsize=14)\n",
    "    plt.xlabel(\"Fruit\", fontsize=12)\n",
    "    plt.ylabel(ylabel, fontsize=12)\n",
    "    plt.tight_layout()\n",
    "    plt.show()"
   ]
  },
  {
   "cell_type": "code",
   "execution_count": 94,
   "id": "a233e5be-1e42-4477-99bf-58673629f560",
   "metadata": {
    "tags": []
   },
   "outputs": [
    {
     "data": {
      "image/png": "[encoded data removed]",
      "text/plain": [
       "<Figure size 800x500 with 1 Axes>"
      ]
     },
     "metadata": {},
     "output_type": "display_data"
    }
   ],
   "source": [
    "plot_nutrition(df, \"Calories\", \"Calories in Fruits (per 100g)\", \"Calories\", \"Orange\")"
   ]
  },
  {
   "cell_type": "code",
   "execution_count": 95,
   "id": "0c626925-e183-449a-91c6-cdcf0568e9af",
   "metadata": {
    "tags": []
   },
   "outputs": [
    {
     "data": {
      "text/html": [
       "<div>\n",
       "<style scoped>\n",
       "    .dataframe tbody tr th:only-of-type {\n",
       "        vertical-align: middle;\n",
       "    }\n",
       "\n",
       "    .dataframe tbody tr th {\n",
       "        vertical-align: top;\n",
       "    }\n",
       "\n",
       "    .dataframe thead th {\n",
       "        text-align: right;\n",
       "    }\n",
       "</style>\n",
       "<table border=\"1\" class=\"dataframe\">\n",
       "  <thead>\n",
       "    <tr style=\"text-align: right;\">\n",
       "      <th></th>\n",
       "      <th>Fruit</th>\n",
       "      <th>Calories</th>\n",
       "      <th>Sugar (g)</th>\n",
       "      <th>Vitamin C (mg)</th>\n",
       "    </tr>\n",
       "  </thead>\n",
       "  <tbody>\n",
       "    <tr>\n",
       "      <th>0</th>\n",
       "      <td>Apple</td>\n",
       "      <td>52</td>\n",
       "      <td>10.4</td>\n",
       "      <td>4.6</td>\n",
       "    </tr>\n",
       "    <tr>\n",
       "      <th>1</th>\n",
       "      <td>Banana</td>\n",
       "      <td>96</td>\n",
       "      <td>12.2</td>\n",
       "      <td>8.7</td>\n",
       "    </tr>\n",
       "    <tr>\n",
       "      <th>2</th>\n",
       "      <td>Orange</td>\n",
       "      <td>47</td>\n",
       "      <td>9.2</td>\n",
       "      <td>53.2</td>\n",
       "    </tr>\n",
       "    <tr>\n",
       "      <th>3</th>\n",
       "      <td>Strawberry</td>\n",
       "      <td>33</td>\n",
       "      <td>4.9</td>\n",
       "      <td>58.8</td>\n",
       "    </tr>\n",
       "    <tr>\n",
       "      <th>4</th>\n",
       "      <td>Grapes</td>\n",
       "      <td>69</td>\n",
       "      <td>16.3</td>\n",
       "      <td>10.8</td>\n",
       "    </tr>\n",
       "  </tbody>\n",
       "</table>\n",
       "</div>"
      ],
      "text/plain": [
       "        Fruit  Calories  Sugar (g)  Vitamin C (mg)\n",
       "0       Apple        52       10.4             4.6\n",
       "1      Banana        96       12.2             8.7\n",
       "2      Orange        47        9.2            53.2\n",
       "3  Strawberry        33        4.9            58.8\n",
       "4      Grapes        69       16.3            10.8"
      ]
     },
     "execution_count": 95,
     "metadata": {},
     "output_type": "execute_result"
    }
   ],
   "source": [
    "df_example = pd.DataFrame(data)\n",
    "df_example"
   ]
  },
  {
   "cell_type": "code",
   "execution_count": 96,
   "id": "870961d1-bbba-4be4-8b50-269f7d12752e",
   "metadata": {
    "tags": []
   },
   "outputs": [
    {
     "name": "stdout",
     "output_type": "stream",
     "text": [
      "0    52\n",
      "1    96\n",
      "2    47\n",
      "3    33\n",
      "4    69\n",
      "Name: Calories, dtype: int64\n"
     ]
    }
   ],
   "source": [
    "print(df['Calories'])"
   ]
  },
  {
   "cell_type": "code",
   "execution_count": 97,
   "id": "c97247e1-6cec-4c54-a31b-05727a920137",
   "metadata": {
    "tags": []
   },
   "outputs": [
    {
     "name": "stdout",
     "output_type": "stream",
     "text": [
      "Fruit             Apple\n",
      "Calories             52\n",
      "Sugar (g)          10.4\n",
      "Vitamin C (mg)      4.6\n",
      "Name: 0, dtype: object\n"
     ]
    }
   ],
   "source": [
    "print(df.iloc[0])"
   ]
  },
  {
   "cell_type": "code",
   "execution_count": 98,
   "id": "8175c9b0-052c-445a-865c-2fb47c106c13",
   "metadata": {
    "tags": []
   },
   "outputs": [
    {
     "name": "stdout",
     "output_type": "stream",
     "text": [
      "Fruit             Grapes\n",
      "Calories              69\n",
      "Sugar (g)           16.3\n",
      "Vitamin C (mg)      10.8\n",
      "Name: 4, dtype: object\n"
     ]
    }
   ],
   "source": [
    "print(df.iloc[4])"
   ]
  },
  {
   "cell_type": "code",
   "execution_count": 110,
   "id": "ff672d54-9dd9-44ec-a782-7e3f4689d869",
   "metadata": {
    "tags": []
   },
   "outputs": [],
   "source": [
    "WithoutSugar = df.drop('Sugar (g)', axis=1)"
   ]
  },
  {
   "cell_type": "code",
   "execution_count": 111,
   "id": "194a121b-ce36-4a52-bc80-e70438ffd2bb",
   "metadata": {
    "tags": []
   },
   "outputs": [
    {
     "name": "stdout",
     "output_type": "stream",
     "text": [
      "        Fruit  Calories  Sugar (g)  Vitamin C (mg)\n",
      "0       Apple        52       10.4             4.6\n",
      "1      Banana        96       12.2             8.7\n",
      "2      Orange        47        9.2            53.2\n",
      "3  Strawberry        33        4.9            58.8\n",
      "4      Grapes        69       16.3            10.8\n"
     ]
    }
   ],
   "source": [
    "print(df)"
   ]
  },
  {
   "cell_type": "code",
   "execution_count": 112,
   "id": "4dc7870c-97b4-49ed-9434-1552dd0ae13c",
   "metadata": {
    "tags": []
   },
   "outputs": [
    {
     "name": "stdout",
     "output_type": "stream",
     "text": [
      "        Fruit  Calories  Vitamin C (mg)\n",
      "0       Apple        52             4.6\n",
      "1      Banana        96             8.7\n",
      "2      Orange        47            53.2\n",
      "3  Strawberry        33            58.8\n",
      "4      Grapes        69            10.8\n"
     ]
    }
   ],
   "source": [
    "print(WithoutSugar)"
   ]
  },
  {
   "cell_type": "code",
   "execution_count": null,
   "id": "24dad2ca-19f2-488f-bf5d-c01a4746bba7",
   "metadata": {},
   "outputs": [],
   "source": []
  }
 ],
 "metadata": {
  "kernelspec": {
   "display_name": "Python 3 (ipykernel)",
   "language": "python",
   "name": "python3"
  },
  "language_info": {
   "codemirror_mode": {
    "name": "ipython",
    "version": 3
   },
   "file_extension": ".py",
   "mimetype": "text/x-python",
   "name": "python",
   "nbconvert_exporter": "python",
   "pygments_lexer": "ipython3",
   "version": "3.11.3"
  }
 },
 "nbformat": 4,
 "nbformat_minor": 5
}
